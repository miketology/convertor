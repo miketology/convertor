{
  "cells": [
    {
      "cell_type": "markdown",
      "metadata": {
        "id": "view-in-github",
        "colab_type": "text"
      },
      "source": [
        "<a href=\"https://colab.research.google.com/github/miketology/convertor/blob/main/Download_Youtube.ipynb\" target=\"_parent\"><img src=\"https://colab.research.google.com/assets/colab-badge.svg\" alt=\"Open In Colab\"/></a>"
      ]
    },
    {
      "cell_type": "code",
      "source": [
        "import os\n",
        "import subprocess\n",
        "\n",
        "def download_video(url):\n",
        "    \"\"\"Simple one-line video download\"\"\"\n",
        "    print(f\"🎬 Downloading: {url}\")\n",
        "    os.system(f'yt-dlp -f \"best[ext=mp4]\" -o \"downloads/%(title)s.%(ext)s\" \"{url}\"')\n",
        "    print(\"✅ Download completed!\")\n",
        "\n",
        "# Usage - super fast!\n",
        "url = input(\"Enter YouTube URL: \").strip()\n",
        "download_video(url)"
      ],
      "metadata": {
        "id": "n9FA6KdRfxgZ"
      },
      "execution_count": null,
      "outputs": []
    }
  ],
  "metadata": {
    "colab": {
      "name": "Welcome To Colab",
      "toc_visible": true,
      "provenance": [],
      "include_colab_link": true
    },
    "kernelspec": {
      "display_name": "Python 3",
      "name": "python3"
    }
  },
  "nbformat": 4,
  "nbformat_minor": 0
}