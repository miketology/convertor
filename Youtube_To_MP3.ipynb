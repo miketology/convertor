{
  "cells": [
    {
      "cell_type": "markdown",
      "metadata": {
        "id": "view-in-github",
        "colab_type": "text"
      },
      "source": [
        "<a href=\"https://colab.research.google.com/github/miketology/convertor/blob/main/Youtube_To_MP3.ipynb\" target=\"_parent\"><img src=\"https://colab.research.google.com/assets/colab-badge.svg\" alt=\"Open In Colab\"/></a>"
      ]
    },
    {
      "cell_type": "markdown",
      "source": [
        "YOUTUBE TO MP3 CONVETOR"
      ],
      "metadata": {
        "id": "HBIWl-IjFzcv"
      }
    },
    {
      "cell_type": "code",
      "source": [
        "# install yt-dlp\n",
        "!pip install yt-dlp"
      ],
      "metadata": {
        "id": "_syUW_b4Gduy"
      },
      "execution_count": null,
      "outputs": []
    },
    {
      "cell_type": "code",
      "source": [
        "import os\n",
        "import subprocess\n",
        "import glob\n",
        "\n",
        "def simple_yt_dlp(url, download_folder=\"downloads\"):\n",
        "    \"\"\"Simple version that always shows file location\"\"\"\n",
        "\n",
        "    # Create download folder\n",
        "    if not os.path.exists(download_folder):\n",
        "        os.makedirs(download_folder)\n",
        "\n",
        "    print(f\"📁 Downloading to: {os.path.abspath(download_folder)}\")\n",
        "\n",
        "    try:\n",
        "        # Get list of files before download\n",
        "        before_files = set(glob.glob(os.path.join(download_folder, \"*.mp3\")))\n",
        "\n",
        "        # Download command\n",
        "        command = [\n",
        "            \"yt-dlp\",\n",
        "            \"-x\", \"--audio-format\", \"mp3\",\n",
        "            \"-o\", os.path.join(download_folder, \"%(title)s.%(ext)s\"),\n",
        "            url\n",
        "        ]\n",
        "\n",
        "        print(\"⏳ Downloading...\")\n",
        "        result = subprocess.run(command, capture_output=True, text=True)\n",
        "\n",
        "        if result.returncode == 0:\n",
        "            # Get list of files after download\n",
        "            after_files = set(glob.glob(os.path.join(download_folder, \"*.mp3\")))\n",
        "\n",
        "            # Find new files\n",
        "            new_files = after_files - before_files\n",
        "\n",
        "            if new_files:\n",
        "                for file_path in new_files:\n",
        "                    file_size = os.path.getsize(file_path) / (1024 * 1024)\n",
        "                    print(f\"✅ SUCCESS! Downloaded: {file_path}\")\n",
        "                    print(f\"💾 Size: {file_size:.2f} MB\")\n",
        "                    return file_path\n",
        "            else:\n",
        "                print(\"✅ Download completed! Check the download folder.\")\n",
        "                return True\n",
        "        else:\n",
        "            print(f\"❌ Error: {result.stderr}\")\n",
        "            return False\n",
        "\n",
        "    except Exception as e:\n",
        "        print(f\"❌ Error: {str(e)}\")\n",
        "        return False\n",
        "\n",
        "# Usage\n",
        "if __name__ == \"__main__\":\n",
        "    url = input(\"Enter YouTube URL: \").strip()\n",
        "    if url:\n",
        "        simple_yt_dlp(url)"
      ],
      "metadata": {
        "id": "lADAVuATGfH-"
      },
      "execution_count": null,
      "outputs": []
    }
  ],
  "metadata": {
    "colab": {
      "name": "Welcome To Colab",
      "toc_visible": true,
      "provenance": [],
      "include_colab_link": true
    },
    "kernelspec": {
      "display_name": "Python 3",
      "name": "python3"
    }
  },
  "nbformat": 4,
  "nbformat_minor": 0
}