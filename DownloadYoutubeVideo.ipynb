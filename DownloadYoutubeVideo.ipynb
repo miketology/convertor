{
  "cells": [
    {
      "cell_type": "markdown",
      "metadata": {
        "id": "view-in-github",
        "colab_type": "text"
      },
      "source": [
        "<a href=\"https://colab.research.google.com/github/miketology/convertor/blob/main/DownloadYoutubeVideo.ipynb\" target=\"_parent\"><img src=\"https://colab.research.google.com/assets/colab-badge.svg\" alt=\"Open In Colab\"/></a>"
      ]
    },
    {
      "cell_type": "markdown",
      "source": [
        "Youtube Video Download"
      ],
      "metadata": {
        "id": "oJPT8PJEZMjW"
      }
    },
    {
      "cell_type": "code",
      "source": [
        "# RUN\n",
        "!pip install yt-dlp"
      ],
      "metadata": {
        "id": "Lg3cim7DdF8b"
      },
      "execution_count": null,
      "outputs": []
    },
    {
      "cell_type": "code",
      "source": [
        "import os\n",
        "import subprocess\n",
        "\n",
        "def download_video(url):\n",
        "    \"\"\"Simple one-line video download\"\"\"\n",
        "    print(f\"🎬 Downloading: {url}\")\n",
        "    os.system(f'yt-dlp -f \"best[ext=mp4]\" -o \"downloads/%(title)s.%(ext)s\" \"{url}\"')\n",
        "    print(\"✅ Download completed!\")\n",
        "\n",
        "# Usage - super fast!\n",
        "url = input(\"Enter YouTube URL: \").strip()\n",
        "download_video(url)"
      ],
      "metadata": {
        "id": "sMRtAz62eAYW",
        "outputId": "410ebffb-f175-4b69-c3af-fb9de0284372",
        "colab": {
          "base_uri": "https://localhost:8080/"
        }
      },
      "execution_count": 2,
      "outputs": [
        {
          "output_type": "stream",
          "name": "stdout",
          "text": [
            "Enter YouTube URL: https://youtu.be/eV8h52Lyxi0?si=K8BVBdjXo79aqv9a\n",
            "🎬 Downloading: https://youtu.be/eV8h52Lyxi0?si=K8BVBdjXo79aqv9a\n",
            "✅ Download completed!\n"
          ]
        }
      ]
    }
  ],
  "metadata": {
    "colab": {
      "name": "Welcome To Colab",
      "provenance": [],
      "include_colab_link": true
    },
    "kernelspec": {
      "display_name": "Python 3",
      "name": "python3"
    }
  },
  "nbformat": 4,
  "nbformat_minor": 0
}