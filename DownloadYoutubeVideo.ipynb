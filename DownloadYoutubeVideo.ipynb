{
  "cells": [
    {
      "cell_type": "markdown",
      "metadata": {
        "id": "view-in-github",
        "colab_type": "text"
      },
      "source": [
        "<a href=\"https://colab.research.google.com/github/miketology/convertor/blob/main/DownloadYoutubeVideo.ipynb\" target=\"_parent\"><img src=\"https://colab.research.google.com/assets/colab-badge.svg\" alt=\"Open In Colab\"/></a>"
      ]
    },
    {
      "cell_type": "markdown",
      "source": [
        "Youtube Video Download"
      ],
      "metadata": {
        "id": "oJPT8PJEZMjW"
      }
    },
    {
      "cell_type": "code",
      "source": [
        "# RUN\n",
        "!pip install yt-dlp"
      ],
      "metadata": {
        "id": "Lg3cim7DdF8b"
      },
      "execution_count": null,
      "outputs": []
    },
    {
      "cell_type": "code",
      "source": [
        "from yt_dlp import YoutubeDL\n",
        "import os\n",
        "\n",
        "def download_video(url, out_dir=\"downloads\"):\n",
        "    os.makedirs(out_dir, exist_ok=True)\n",
        "    ydl_opts = {\n",
        "        \"format\": \"best[ext=mp4]/best\",\n",
        "        \"outtmpl\": f\"{out_dir}/%(title)s.%(ext)s\",\n",
        "        # less console noise:\n",
        "        \"quiet\": False,\n",
        "        \"noprogress\": False,\n",
        "    }\n",
        "    with YoutubeDL(ydl_opts) as ydl:\n",
        "        ydl.download([url])\n",
        "\n",
        "url = input(\"Enter YouTube URL: \").strip()\n",
        "download_video(url)\n"
      ],
      "metadata": {
        "id": "sMRtAz62eAYW"
      },
      "execution_count": null,
      "outputs": []
    }
  ],
  "metadata": {
    "colab": {
      "name": "Welcome To Colab",
      "toc_visible": true,
      "provenance": [],
      "include_colab_link": true
    },
    "kernelspec": {
      "display_name": "Python 3",
      "name": "python3"
    }
  },
  "nbformat": 4,
  "nbformat_minor": 0
}